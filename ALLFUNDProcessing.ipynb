{
  "nbformat": 4,
  "nbformat_minor": 0,
  "metadata": {
    "colab": {
      "name": "ALLFUNDProcessing.ipynb",
      "version": "0.3.2",
      "provenance": [],
      "include_colab_link": true
    },
    "kernelspec": {
      "name": "python3",
      "display_name": "Python 3"
    }
  },
  "cells": [
    {
      "cell_type": "markdown",
      "metadata": {
        "id": "view-in-github",
        "colab_type": "text"
      },
      "source": [
        "<a href=\"https://colab.research.google.com/github/Jirathip/pythontest2/blob/master/ALLFUNDProcessing.ipynb\" target=\"_parent\"><img src=\"https://colab.research.google.com/assets/colab-badge.svg\" alt=\"Open In Colab\"/></a>"
      ]
    },
    {
      "metadata": {
        "id": "qNGvCsdLyflo",
        "colab_type": "code",
        "colab": {}
      },
      "cell_type": "code",
      "source": [
        "#locally download file\n",
        "from google.colab import files\n",
        "upload = files.upload()"
      ],
      "execution_count": 0,
      "outputs": []
    },
    {
      "metadata": {
        "id": "ydYAQUmulWoL",
        "colab_type": "code",
        "outputId": "f6d04a1e-bdca-4574-f126-22a2621ab6a0",
        "colab": {
          "base_uri": "https://localhost:8080/",
          "height": 116
        }
      },
      "cell_type": "code",
      "source": [
        "# mount google drive\n",
        "from google.colab import drive\n",
        "drive.mount('/content/drive')"
      ],
      "execution_count": 0,
      "outputs": [
        {
          "output_type": "stream",
          "text": [
            "Go to this URL in a browser: https://accounts.google.com/o/oauth2/auth?client_id=947318989803-6bn6qk8qdgf4n4g3pfee6491hc0brc4i.apps.googleusercontent.com&redirect_uri=urn%3Aietf%3Awg%3Aoauth%3A2.0%3Aoob&scope=email%20https%3A%2F%2Fwww.googleapis.com%2Fauth%2Fdocs.test%20https%3A%2F%2Fwww.googleapis.com%2Fauth%2Fdrive%20https%3A%2F%2Fwww.googleapis.com%2Fauth%2Fdrive.photos.readonly%20https%3A%2F%2Fwww.googleapis.com%2Fauth%2Fpeopleapi.readonly&response_type=code\n",
            "\n",
            "Enter your authorization code:\n",
            "··········\n",
            "Mounted at /content/drive\n"
          ],
          "name": "stdout"
        }
      ]
    },
    {
      "metadata": {
        "id": "twLg3LdKYsw7",
        "colab_type": "code",
        "colab": {}
      },
      "cell_type": "code",
      "source": [
        "#read and clean data\n",
        "\n",
        "import pandas as pd\n",
        "ALLFUND2 = pd.read_csv('/content/drive/My Drive/FromColab/ALLFUND.csv',\n",
        "index_col=False,low_memory=False,skipinitialspace=True,names=['Port',\n",
        "'Date','Time','Security','Issuer','Maturity Date','Rating','Coupon Rate',\n",
        "'Average Redemtion Yield','Face Value','Cost/Unit','Amortise Cost',\n",
        "'Market Price','Market Value','%NAV','Average YTM','Duration','%Cap Gain'])\n",
        "ALLFUND2.loc[:,'Port'] = ALLFUND2.loc[:,'Port'].astype(str).map(str.strip)\n",
        "ALLFUND2.loc[:,'Issuer'] = ALLFUND2.loc[:,'Issuer'].astype(str).map(str.strip)\n",
        "ALLFUND2.loc[:,'Duration'] = pd.to_numeric(ALLFUND2.loc[:,'Duration'],errors='coerce')\n"
      ],
      "execution_count": 0,
      "outputs": []
    },
    {
      "metadata": {
        "id": "FDbUjh_Il8bd",
        "colab_type": "code",
        "colab": {}
      },
      "cell_type": "code",
      "source": [
        "#Create indexer from header\n",
        "Sectype=ALLFUND2.Port*ALLFUND2.Port.str.contains('TOTAL')\n",
        "Sectype = pd.Series(Sectype.unique()).astype(str).str.lstrip('TOTAL').map(str.strip)\n",
        "Sectype = Sectype[Sectype.str.contains('1|2|3|4|5|6|7')==False]\n",
        "Sectype = Sectype [1:10]\n",
        "Sectype = pd.DataFrame(list(zip(Sectype,Sectype)),columns=['keys','values'])\n",
        "\n",
        "Sectype.to_csv('Sectype.csv')\n",
        "!cp Sectype.csv '/content/drive/My Drive/FromColab'"
      ],
      "execution_count": 0,
      "outputs": []
    },
    {
      "metadata": {
        "id": "NLR_ra47aIhZ",
        "colab_type": "code",
        "colab": {}
      },
      "cell_type": "code",
      "source": [
        "#Labeling Data\n",
        "\n",
        "ALLFUND2 = ALLFUND2.assign(SecurityType=IndexMap(ALLFUND2,'Port',Sectype,'keys','values').fillna(method='ffill'))\n",
        "ALLFUND2 = ALLFUND2.assign(FundType = IndexMap(ALLFUND2,'Port',index,'Fund code','Fund type'))\n",
        "ALLFUND2 = ALLFUND2.assign(Sector = IndexMap(ALLFUND2,'Issuer',index,'Issuer','Sector'))\n",
        "ALLFUND2 = ALLFUND2.assign(Domicile = IndexMap(ALLFUND2,'Issuer',index,'Issuer','Domicile'))\n",
        "ALLFUND2 = ALLFUND2.assign(DurationBand = pd.cut(ALLFUND2.Duration,bins=[0,1,3,5,7,10]))\n",
        "ALLFUND2 = ALLFUND2.dropna(subset=['Domicile'],how='any')\n",
        "ALLFUND2 = ALLFUND2[ALLFUND2.loc[:,'Domicile']=='TH']\n",
        "ALLFUND2 = ALLFUND2.set_index(['Issuer','Security','Rating','DurationBand','SecurityType','FundType','Sector'])\n",
        "\n",
        "ALLFUND2"
      ],
      "execution_count": 0,
      "outputs": []
    },
    {
      "metadata": {
        "id": "j0nkDj13ZMXL",
        "colab_type": "code",
        "colab": {}
      },
      "cell_type": "code",
      "source": [
        "def IndexMap(df,serie,indexdf,keyscolumn,valuescolumn):\n",
        "  #indexmatchData: create new column from matched column in DataFrame \n",
        "  indexdict = dict(zip(indexdf.loc[:,keyscolumn].values.tolist(),indexdf.loc[:,valuescolumn].values.tolist()))\n",
        "  newcolumn = df.loc[:,serie].map(indexdict)\n",
        "\n",
        "  \n",
        "  return newcolumn\n",
        "  "
      ],
      "execution_count": 0,
      "outputs": []
    },
    {
      "metadata": {
        "id": "0UhEiMT1Aara",
        "colab_type": "code",
        "colab": {}
      },
      "cell_type": "code",
      "source": [
        "\n",
        "def QueryData(OriginalDataFrame,QueryColumn,QueryColumnScale=0,QueryColumntype=pd.to_numeric):\n",
        "  #Simple select 1 column with scale and data type(base=to number)\n",
        "  Scale = 1/(10**QueryColumnScale)\n",
        "  QueryDataFrame = OriginalDataFrame.loc[:,QueryColumn]\n",
        "  QueryDataFrame = QueryColumntype(QueryDataFrame,errors='coerce')*Scale\n",
        "  QueryDataFrame = pd.DataFrame(QueryDataFrame)\n",
        "  \n",
        "  return QueryDataFrame"
      ],
      "execution_count": 0,
      "outputs": []
    },
    {
      "metadata": {
        "id": "JK-xnSsVqGh0",
        "colab_type": "code",
        "colab": {}
      },
      "cell_type": "code",
      "source": [
        "QueryData(ALLFUND2,'Market Value',QueryColumnScale=6).sum(level=['SecurityType','Issuer'])"
      ],
      "execution_count": 0,
      "outputs": []
    },
    {
      "metadata": {
        "id": "_0oekAt-FKJt",
        "colab_type": "code",
        "colab": {}
      },
      "cell_type": "code",
      "source": [
        ""
      ],
      "execution_count": 0,
      "outputs": []
    },
    {
      "metadata": {
        "id": "fKh2J1EiXDE1",
        "colab_type": "code",
        "colab": {}
      },
      "cell_type": "code",
      "source": [
        "\n",
        "ratingorder=['AAA ','AA+ ','AA  ','AA- ','A+  ','A   ','A-  ','BBB+','BBB ','BBB-','BB+ ']\n"
      ],
      "execution_count": 0,
      "outputs": []
    },
    {
      "metadata": {
        "id": "Uwvm3Y7IanVo",
        "colab_type": "code",
        "outputId": "08183535-8693-479e-9ee1-c442eb43817b",
        "colab": {
          "base_uri": "https://localhost:8080/",
          "height": 395
        }
      },
      "cell_type": "code",
      "source": [
        "QueryData(ALLFUND2,'Market Value',6).stack().sum(level=['Rating',\n",
        "'DurationBand']).unstack().reindex(ratingorder).plot(kind='bar'\n",
        ",stacked=True)"
      ],
      "execution_count": 369,
      "outputs": [
        {
          "output_type": "execute_result",
          "data": {
            "text/plain": [
              "<matplotlib.axes._subplots.AxesSubplot at 0x7f936179b240>"
            ]
          },
          "metadata": {
            "tags": []
          },
          "execution_count": 369
        },
        {
          "output_type": "display_data",
          "data": {
            "image/png": "[encoded data removed]",
            "text/plain": [
              "<Figure size 576x396 with 1 Axes>"
            ]
          },
          "metadata": {
            "tags": []
          }
        }
      ]
    },
    {
      "metadata": {
        "id": "SegK-ZOJDdVy",
        "colab_type": "code",
        "colab": {}
      },
      "cell_type": "code",
      "source": [
        "# download to local machine\n",
        "file = df.stack().sum(level=['Rating','Duration band']).unstack()\n",
        "file.to_csv('file.csv')\n",
        "files.download('file.csv')\n"
      ],
      "execution_count": 0,
      "outputs": []
    },
    {
      "metadata": {
        "id": "Kky4ydqcUf5w",
        "colab_type": "code",
        "colab": {
          "base_uri": "https://localhost:8080/",
          "height": 63
        },
        "outputId": "12ab2738-34c1-4f54-ec5c-6174efd249fa"
      },
      "cell_type": "code",
      "source": [
        "#copy content to Google Drive\n",
        "!cp ALLFUND.csv \"/content/drive/My Drive/FromColab/\""
      ],
      "execution_count": 370,
      "outputs": [
        {
          "output_type": "stream",
          "text": [
            "cp: cannot stat 'ALLFUND.csv': No such file or directory\n"
          ],
          "name": "stdout"
        }
      ]
    },
    {
      "metadata": {
        "id": "PiGOKoidRvA2",
        "colab_type": "code",
        "outputId": "33b64349-d234-41d4-b2cd-0922f14a42f9",
        "colab": {
          "base_uri": "https://localhost:8080/",
          "height": 63
        }
      },
      "cell_type": "code",
      "source": [
        "#check google drive\n",
        "!ls \"/content/drive/My Drive/FromColab\"\n"
      ],
      "execution_count": 372,
      "outputs": [
        {
          "output_type": "stream",
          "text": [
            "ALLFUND.csv  ALLFUNDindexed.csv  ALLFUNDindexer.csv  df.csv\n"
          ],
          "name": "stdout"
        }
      ]
    }
  ]
}